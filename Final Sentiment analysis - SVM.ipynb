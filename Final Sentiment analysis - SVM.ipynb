{
 "cells": [
  {
   "cell_type": "code",
   "execution_count": 27,
   "id": "d1ecf6c2",
   "metadata": {},
   "outputs": [],
   "source": [
    "import numpy as np\n",
    "import pandas as pd\n",
    "import matplotlib.pyplot as plt\n",
    "import seaborn as sns\n",
    "from sklearn.svm import LinearSVC, SVC\n",
    "import warnings\n",
    "warnings.filterwarnings(action='ignore')\n"
   ]
  },
  {
   "cell_type": "code",
   "execution_count": 28,
   "id": "5886dae3",
   "metadata": {},
   "outputs": [],
   "source": [
    "from sklearn.model_selection import train_test_split,GridSearchCV,cross_val_score\n",
    "from sklearn.metrics import mean_squared_error\n",
    "from sklearn import metrics\n",
    "%matplotlib inline"
   ]
  },
  {
   "cell_type": "code",
   "execution_count": 29,
   "id": "20d1439e",
   "metadata": {},
   "outputs": [],
   "source": [
    "import string\n",
    "from nltk.stem import SnowballStemmer\n",
    "from nltk.corpus import stopwords\n",
    "from sklearn.feature_extraction.text import TfidfVectorizer\n",
    "from sklearn.model_selection import train_test_split\n",
    "import os\n",
    "from textblob import TextBlob\n",
    "from nltk.stem import PorterStemmer\n",
    "from textblob import Word\n",
    "from sklearn.feature_extraction.text import CountVectorizer, TfidfVectorizer\n",
    "import sklearn.feature_extraction.text as text"
   ]
  },
  {
   "cell_type": "code",
   "execution_count": 30,
   "id": "0b7ca270",
   "metadata": {},
   "outputs": [],
   "source": [
    "###Read stocktwits data for Amazon. The ML model predicts the sentiments of messages in this dataset, for the period of 2019-07-21 to 2020-07-22\n",
    "\n",
    "df1=pd.read_csv(\"AMZN_label.csv\")\n",
    "df1= df1.dropna(subset=['message']).reset_index()  \n",
    "\n",
    "###Read financial corpus data. The ML model will train and test based on the data in this dataset\n",
    "fin_corpus=pd.read_csv(\"tweet_sentiment.csv\")"
   ]
  },
  {
   "cell_type": "code",
   "execution_count": 145,
   "id": "a12c146d",
   "metadata": {},
   "outputs": [],
   "source": [
    "\n",
    "stocktwits_data = df1[['symbol', 'message', 'Date']]\n",
    "stocktwits_data['Date'] = pd.to_datetime(stocktwits_data['Date'])\n",
    "\n",
    "stocktwits_data = stocktwits_data[stocktwits_data['Date'] > '2020-03-01']\n",
    "stocktwits_data = stocktwits_data[stocktwits_data['Date'] < '2020-05-01']"
   ]
  },
  {
   "cell_type": "code",
   "execution_count": 146,
   "id": "14448055",
   "metadata": {},
   "outputs": [
    {
     "data": {
      "text/html": [
       "<div>\n",
       "<style scoped>\n",
       "    .dataframe tbody tr th:only-of-type {\n",
       "        vertical-align: middle;\n",
       "    }\n",
       "\n",
       "    .dataframe tbody tr th {\n",
       "        vertical-align: top;\n",
       "    }\n",
       "\n",
       "    .dataframe thead th {\n",
       "        text-align: right;\n",
       "    }\n",
       "</style>\n",
       "<table border=\"1\" class=\"dataframe\">\n",
       "  <thead>\n",
       "    <tr style=\"text-align: right;\">\n",
       "      <th></th>\n",
       "      <th>symbol</th>\n",
       "      <th>message</th>\n",
       "      <th>Date</th>\n",
       "    </tr>\n",
       "  </thead>\n",
       "  <tbody>\n",
       "    <tr>\n",
       "      <th>50674</th>\n",
       "      <td>AMZN</td>\n",
       "      <td>spy tsla amzn baba</td>\n",
       "      <td>2020-03-02</td>\n",
       "    </tr>\n",
       "    <tr>\n",
       "      <th>50675</th>\n",
       "      <td>AMZN</td>\n",
       "      <td>viruses coming mail till start uv disinfecting...</td>\n",
       "      <td>2020-03-02</td>\n",
       "    </tr>\n",
       "    <tr>\n",
       "      <th>50676</th>\n",
       "      <td>AMZN</td>\n",
       "      <td>amzn futures jumped 200</td>\n",
       "      <td>2020-03-02</td>\n",
       "    </tr>\n",
       "    <tr>\n",
       "      <th>50677</th>\n",
       "      <td>AMZN</td>\n",
       "      <td>aapl fb amzn someone pls explain relationship ...</td>\n",
       "      <td>2020-03-02</td>\n",
       "    </tr>\n",
       "    <tr>\n",
       "      <th>50678</th>\n",
       "      <td>AMZN</td>\n",
       "      <td>amzn better futures start rebound 30k less 20 ...</td>\n",
       "      <td>2020-03-02</td>\n",
       "    </tr>\n",
       "  </tbody>\n",
       "</table>\n",
       "</div>"
      ],
      "text/plain": [
       "      symbol                                            message       Date\n",
       "50674   AMZN                                 spy tsla amzn baba 2020-03-02\n",
       "50675   AMZN  viruses coming mail till start uv disinfecting... 2020-03-02\n",
       "50676   AMZN                            amzn futures jumped 200 2020-03-02\n",
       "50677   AMZN  aapl fb amzn someone pls explain relationship ... 2020-03-02\n",
       "50678   AMZN  amzn better futures start rebound 30k less 20 ... 2020-03-02"
      ]
     },
     "execution_count": 146,
     "metadata": {},
     "output_type": "execute_result"
    }
   ],
   "source": [
    "stocktwits_data.tail(5)"
   ]
  },
  {
   "cell_type": "code",
   "execution_count": 33,
   "id": "9eb02875",
   "metadata": {},
   "outputs": [
    {
     "data": {
      "text/html": [
       "<div>\n",
       "<style scoped>\n",
       "    .dataframe tbody tr th:only-of-type {\n",
       "        vertical-align: middle;\n",
       "    }\n",
       "\n",
       "    .dataframe tbody tr th {\n",
       "        vertical-align: top;\n",
       "    }\n",
       "\n",
       "    .dataframe thead th {\n",
       "        text-align: right;\n",
       "    }\n",
       "</style>\n",
       "<table border=\"1\" class=\"dataframe\">\n",
       "  <thead>\n",
       "    <tr style=\"text-align: right;\">\n",
       "      <th></th>\n",
       "      <th>text</th>\n",
       "      <th>sentiment</th>\n",
       "    </tr>\n",
       "  </thead>\n",
       "  <tbody>\n",
       "    <tr>\n",
       "      <th>0</th>\n",
       "      <td>video offic mind busi david solomon tell gs in...</td>\n",
       "      <td>0</td>\n",
       "    </tr>\n",
       "    <tr>\n",
       "      <th>1</th>\n",
       "      <td>price lumber lb f sinc hit ytd high maci turna...</td>\n",
       "      <td>0</td>\n",
       "    </tr>\n",
       "    <tr>\n",
       "      <th>2</th>\n",
       "      <td>say american dream dead</td>\n",
       "      <td>-1</td>\n",
       "    </tr>\n",
       "    <tr>\n",
       "      <th>3</th>\n",
       "      <td>barri silbert extrem optimist bitcoin predict ...</td>\n",
       "      <td>1</td>\n",
       "    </tr>\n",
       "    <tr>\n",
       "      <th>4</th>\n",
       "      <td>satellit avoid attack space junk circl earth paid</td>\n",
       "      <td>-1</td>\n",
       "    </tr>\n",
       "  </tbody>\n",
       "</table>\n",
       "</div>"
      ],
      "text/plain": [
       "                                                text  sentiment\n",
       "0  video offic mind busi david solomon tell gs in...          0\n",
       "1  price lumber lb f sinc hit ytd high maci turna...          0\n",
       "2                            say american dream dead         -1\n",
       "3  barri silbert extrem optimist bitcoin predict ...          1\n",
       "4  satellit avoid attack space junk circl earth paid         -1"
      ]
     },
     "execution_count": 33,
     "metadata": {},
     "output_type": "execute_result"
    }
   ],
   "source": [
    "fin_corpus.rename(columns={'cleaned_tweets': 'text', 'sentiment': 'sentiment'}, inplace=True)\n",
    "fin_corpus.head(5)"
   ]
  },
  {
   "cell_type": "code",
   "execution_count": 34,
   "id": "fc9427b5",
   "metadata": {},
   "outputs": [
    {
     "data": {
      "image/png": "[encoded data removed]",
      "text/plain": [
       "<Figure size 432x288 with 1 Axes>"
      ]
     },
     "metadata": {
      "needs_background": "light"
     },
     "output_type": "display_data"
    }
   ],
   "source": [
    "fin_corpus['sentiment'].value_counts().plot.bar(color = [\"g\",\"r\"])\n",
    "plt.title('Sentiments in financial corpus')\n",
    "plt.show()"
   ]
  },
  {
   "cell_type": "code",
   "execution_count": 35,
   "id": "c18106c9",
   "metadata": {},
   "outputs": [
    {
     "data": {
      "text/plain": [
       " 0    17330\n",
       " 1     8512\n",
       "-1     2598\n",
       "Name: sentiment, dtype: int64"
      ]
     },
     "execution_count": 35,
     "metadata": {},
     "output_type": "execute_result"
    }
   ],
   "source": [
    "fin_corpus['sentiment'].value_counts()"
   ]
  },
  {
   "cell_type": "code",
   "execution_count": 36,
   "id": "a0aa5be0",
   "metadata": {},
   "outputs": [],
   "source": [
    "##fin_corpus.drop(fin_corpus.loc[fin_corpus['sentiment']==0].index, inplace=True)\n",
    "\n",
    "fin_corpus[\"sentiment\"].replace({1: \"Positive\"}, inplace=True)\n",
    "fin_corpus[\"sentiment\"].replace({0: \"Neutral\"}, inplace=True)\n",
    "fin_corpus[\"sentiment\"].replace({-1: \"Negative\"}, inplace=True)"
   ]
  },
  {
   "cell_type": "code",
   "execution_count": 37,
   "id": "f26c5ef6",
   "metadata": {},
   "outputs": [
    {
     "data": {
      "image/png": "[encoded data removed]",
      "text/plain": [
       "<Figure size 432x288 with 1 Axes>"
      ]
     },
     "metadata": {
      "needs_background": "light"
     },
     "output_type": "display_data"
    }
   ],
   "source": [
    "fin_corpus['sentiment'].value_counts().plot.bar(color = [\"g\",\"r\"])\n",
    "plt.title('Sentiments in financial corpus')\n",
    "plt.show()"
   ]
  },
  {
   "cell_type": "code",
   "execution_count": 38,
   "id": "439a460a",
   "metadata": {},
   "outputs": [
    {
     "data": {
      "text/plain": [
       "Neutral     17330\n",
       "Positive     8512\n",
       "Negative     2598\n",
       "Name: sentiment, dtype: int64"
      ]
     },
     "execution_count": 38,
     "metadata": {},
     "output_type": "execute_result"
    }
   ],
   "source": [
    "fin_corpus['sentiment'].value_counts()"
   ]
  },
  {
   "cell_type": "code",
   "execution_count": 39,
   "id": "7ef566bb",
   "metadata": {},
   "outputs": [
    {
     "data": {
      "text/plain": [
       "Neutral     17324\n",
       "Positive     8512\n",
       "Negative     2598\n",
       "Name: sentiment, dtype: int64"
      ]
     },
     "execution_count": 39,
     "metadata": {},
     "output_type": "execute_result"
    }
   ],
   "source": [
    "train_data = fin_corpus\n",
    "train_data = train_data.dropna()\n",
    "train_data['sentiment'].value_counts()\n",
    "##train_data[\"sentiment\"].replace({1: 2}, inplace=True)\n",
    "##train_data[\"sentiment\"].replace({0: 1}, inplace=True)\n",
    "##train_data[\"sentiment\"].replace({-1: 0}, inplace=True)\n",
    "##train_data['sentiment'].value_counts()\n",
    "#train_data = train_data.sample(frac=1)\n",
    "##train_data"
   ]
  },
  {
   "cell_type": "code",
   "execution_count": 40,
   "id": "0e72396b",
   "metadata": {},
   "outputs": [],
   "source": [
    "from nltk.tokenize import RegexpTokenizer\n",
    "\n",
    "def clean_str(string, reg = RegexpTokenizer(r'[a-z]+')):\n",
    "    # Clean a string with RegexpTokenizer\n",
    "    string = string.lower()\n",
    "    tokens = reg.tokenize(string)\n",
    "    return \" \".join(tokens)\n",
    "\n",
    "#print('Before cleaning:')\n",
    "#train_data['text'][0]"
   ]
  },
  {
   "cell_type": "code",
   "execution_count": 41,
   "id": "744d1c84",
   "metadata": {},
   "outputs": [
    {
     "data": {
      "text/html": [
       "<div>\n",
       "<style scoped>\n",
       "    .dataframe tbody tr th:only-of-type {\n",
       "        vertical-align: middle;\n",
       "    }\n",
       "\n",
       "    .dataframe tbody tr th {\n",
       "        vertical-align: top;\n",
       "    }\n",
       "\n",
       "    .dataframe thead th {\n",
       "        text-align: right;\n",
       "    }\n",
       "</style>\n",
       "<table border=\"1\" class=\"dataframe\">\n",
       "  <thead>\n",
       "    <tr style=\"text-align: right;\">\n",
       "      <th></th>\n",
       "      <th>text</th>\n",
       "      <th>sentiment</th>\n",
       "      <th>text_clean</th>\n",
       "    </tr>\n",
       "  </thead>\n",
       "  <tbody>\n",
       "    <tr>\n",
       "      <th>0</th>\n",
       "      <td>video offic mind busi david solomon tell gs in...</td>\n",
       "      <td>Neutral</td>\n",
       "      <td>video offic mind busi david solomon tell gs in...</td>\n",
       "    </tr>\n",
       "    <tr>\n",
       "      <th>1</th>\n",
       "      <td>price lumber lb f sinc hit ytd high maci turna...</td>\n",
       "      <td>Neutral</td>\n",
       "      <td>price lumber lb f sinc hit ytd high maci turna...</td>\n",
       "    </tr>\n",
       "    <tr>\n",
       "      <th>2</th>\n",
       "      <td>say american dream dead</td>\n",
       "      <td>Negative</td>\n",
       "      <td>say american dream dead</td>\n",
       "    </tr>\n",
       "    <tr>\n",
       "      <th>3</th>\n",
       "      <td>barri silbert extrem optimist bitcoin predict ...</td>\n",
       "      <td>Positive</td>\n",
       "      <td>barri silbert extrem optimist bitcoin predict ...</td>\n",
       "    </tr>\n",
       "    <tr>\n",
       "      <th>4</th>\n",
       "      <td>satellit avoid attack space junk circl earth paid</td>\n",
       "      <td>Negative</td>\n",
       "      <td>satellit avoid attack space junk circl earth paid</td>\n",
       "    </tr>\n",
       "  </tbody>\n",
       "</table>\n",
       "</div>"
      ],
      "text/plain": [
       "                                                text sentiment  \\\n",
       "0  video offic mind busi david solomon tell gs in...   Neutral   \n",
       "1  price lumber lb f sinc hit ytd high maci turna...   Neutral   \n",
       "2                            say american dream dead  Negative   \n",
       "3  barri silbert extrem optimist bitcoin predict ...  Positive   \n",
       "4  satellit avoid attack space junk circl earth paid  Negative   \n",
       "\n",
       "                                          text_clean  \n",
       "0  video offic mind busi david solomon tell gs in...  \n",
       "1  price lumber lb f sinc hit ytd high maci turna...  \n",
       "2                            say american dream dead  \n",
       "3  barri silbert extrem optimist bitcoin predict ...  \n",
       "4  satellit avoid attack space junk circl earth paid  "
      ]
     },
     "execution_count": 41,
     "metadata": {},
     "output_type": "execute_result"
    }
   ],
   "source": [
    "# Create a new column with the cleaned messages\n",
    "train_data['text_clean'] = train_data['text'].apply(lambda string: clean_str(string))\n",
    "\n",
    "# Display the result\n",
    "train_data.head()"
   ]
  },
  {
   "cell_type": "code",
   "execution_count": 42,
   "id": "c391a40d",
   "metadata": {},
   "outputs": [],
   "source": [
    "import nltk\n",
    "from nltk.stem import PorterStemmer\n",
    "from sklearn import preprocessing\n",
    "from imblearn.over_sampling import SMOTE\n",
    "encoder = preprocessing.LabelEncoder()\n",
    "from imblearn.under_sampling import RandomUnderSampler\n",
    "##encoder = preprocessing.LabelEncoder()\n",
    "\n",
    "y = train_data.sentiment\n",
    "x = train_data.text_clean\n"
   ]
  },
  {
   "cell_type": "code",
   "execution_count": 43,
   "id": "7b0f40aa",
   "metadata": {},
   "outputs": [],
   "source": [
    "# TFIDF feature generation for a maximum of 5000 features\n",
    "tfidf_vect = TfidfVectorizer(analyzer='word', token_pattern=r'\\w{1,}', max_features=5000)\n",
    "tfidf_vect.fit(train_data['text_clean'])\n",
    "x = tfidf_vect.transform(x)\n",
    "##X_test = tfidf_vect.transform(X_test)\n",
    "##xtrain_tfidf.data"
   ]
  },
  {
   "cell_type": "code",
   "execution_count": 44,
   "id": "9e4fd659",
   "metadata": {},
   "outputs": [],
   "source": [
    "##y = train_data.sentiment\n",
    "##x = train_data.text_clean\n",
    "##X_train, X_test, y_train, y_test = train_test_split(x, y, test_size=0.2, random_state=0)"
   ]
  },
  {
   "cell_type": "code",
   "execution_count": 45,
   "id": "b2c6a3e1",
   "metadata": {},
   "outputs": [],
   "source": [
    "##y = train_data.sentiment\n",
    "##x = train_data.text_clean\n",
    "\n",
    "##Label Encoding\n",
    "encoder.fit(y)\n",
    "y = encoder.fit_transform(y)\n",
    "\n",
    "# SMOTE to handle class imbalance problem\n",
    "oversample = SMOTE()\n",
    "x, y = oversample.fit_resample(x, y)\n",
    "\n",
    "##X_train, X_test, y_train, y_test = train_test_split(x, y, test_size=0.2, random_state=0)"
   ]
  },
  {
   "cell_type": "code",
   "execution_count": 46,
   "id": "a836b91c",
   "metadata": {},
   "outputs": [
    {
     "name": "stdout",
     "output_type": "stream",
     "text": [
      "Class=1, n=17324 (33.333%)\n",
      "Class=0, n=17324 (33.333%)\n",
      "Class=2, n=17324 (33.333%)\n"
     ]
    }
   ],
   "source": [
    "from collections import Counter\n",
    "counter = Counter(y)\n",
    "for k,v in counter.items():\n",
    "    per = v / len(y) * 100\n",
    "    print('Class=%d, n=%d (%.3f%%)' % (k, v, per))"
   ]
  },
  {
   "cell_type": "code",
   "execution_count": 47,
   "id": "5169d328",
   "metadata": {},
   "outputs": [
    {
     "data": {
      "text/plain": [
       "<51972x5000 sparse matrix of type '<class 'numpy.float64'>'\n",
       "\twith 577281 stored elements in Compressed Sparse Row format>"
      ]
     },
     "execution_count": 47,
     "metadata": {},
     "output_type": "execute_result"
    }
   ],
   "source": [
    "x"
   ]
  },
  {
   "cell_type": "code",
   "execution_count": 48,
   "id": "59bf1295",
   "metadata": {},
   "outputs": [],
   "source": [
    "X_train, X_test, y_train, y_test = train_test_split(x, y, test_size=0.2, random_state=0)"
   ]
  },
  {
   "cell_type": "code",
   "execution_count": 49,
   "id": "4d7bf636",
   "metadata": {},
   "outputs": [
    {
     "name": "stdout",
     "output_type": "stream",
     "text": [
      "Fitting 5 folds for each of 48 candidates, totalling 240 fits\n",
      "[CV] END .........................C=0.1, gamma=1, kernel=rbf; total time= 1.7min\n",
      "[CV] END .........................C=0.1, gamma=1, kernel=rbf; total time= 1.8min\n",
      "[CV] END .........................C=0.1, gamma=1, kernel=rbf; total time= 1.9min\n",
      "[CV] END .........................C=0.1, gamma=1, kernel=rbf; total time= 1.9min\n",
      "[CV] END .........................C=0.1, gamma=1, kernel=rbf; total time= 1.9min\n",
      "[CV] END ........................C=0.1, gamma=1, kernel=poly; total time= 2.5min\n",
      "[CV] END ........................C=0.1, gamma=1, kernel=poly; total time= 2.6min\n",
      "[CV] END ........................C=0.1, gamma=1, kernel=poly; total time= 2.6min\n",
      "[CV] END ........................C=0.1, gamma=1, kernel=poly; total time= 2.6min\n",
      "[CV] END ........................C=0.1, gamma=1, kernel=poly; total time= 2.6min\n",
      "[CV] END .....................C=0.1, gamma=1, kernel=sigmoid; total time= 1.8min\n",
      "[CV] END .....................C=0.1, gamma=1, kernel=sigmoid; total time= 1.8min\n",
      "[CV] END .....................C=0.1, gamma=1, kernel=sigmoid; total time= 1.8min\n",
      "[CV] END .....................C=0.1, gamma=1, kernel=sigmoid; total time= 1.8min\n",
      "[CV] END .....................C=0.1, gamma=1, kernel=sigmoid; total time= 1.8min\n",
      "[CV] END .......................C=0.1, gamma=0.1, kernel=rbf; total time= 2.6min\n",
      "[CV] END .......................C=0.1, gamma=0.1, kernel=rbf; total time= 2.6min\n",
      "[CV] END .......................C=0.1, gamma=0.1, kernel=rbf; total time= 2.6min\n",
      "[CV] END .......................C=0.1, gamma=0.1, kernel=rbf; total time= 2.6min\n",
      "[CV] END .......................C=0.1, gamma=0.1, kernel=rbf; total time= 2.6min\n",
      "[CV] END ......................C=0.1, gamma=0.1, kernel=poly; total time= 3.1min\n",
      "[CV] END ......................C=0.1, gamma=0.1, kernel=poly; total time= 3.1min\n",
      "[CV] END ......................C=0.1, gamma=0.1, kernel=poly; total time= 3.1min\n",
      "[CV] END ......................C=0.1, gamma=0.1, kernel=poly; total time= 4.4min\n",
      "[CV] END ......................C=0.1, gamma=0.1, kernel=poly; total time= 3.1min\n",
      "[CV] END ...................C=0.1, gamma=0.1, kernel=sigmoid; total time= 3.0min\n",
      "[CV] END ...................C=0.1, gamma=0.1, kernel=sigmoid; total time= 3.3min\n",
      "[CV] END ...................C=0.1, gamma=0.1, kernel=sigmoid; total time= 3.2min\n",
      "[CV] END ...................C=0.1, gamma=0.1, kernel=sigmoid; total time= 3.3min\n",
      "[CV] END ...................C=0.1, gamma=0.1, kernel=sigmoid; total time= 3.3min\n",
      "[CV] END ......................C=0.1, gamma=0.01, kernel=rbf; total time= 3.5min\n",
      "[CV] END ......................C=0.1, gamma=0.01, kernel=rbf; total time= 3.5min\n",
      "[CV] END ......................C=0.1, gamma=0.01, kernel=rbf; total time= 3.3min\n",
      "[CV] END ......................C=0.1, gamma=0.01, kernel=rbf; total time= 3.0min\n",
      "[CV] END ......................C=0.1, gamma=0.01, kernel=rbf; total time= 3.1min\n",
      "[CV] END .....................C=0.1, gamma=0.01, kernel=poly; total time= 3.1min\n",
      "[CV] END .....................C=0.1, gamma=0.01, kernel=poly; total time= 3.0min\n",
      "[CV] END .....................C=0.1, gamma=0.01, kernel=poly; total time= 3.0min\n",
      "[CV] END .....................C=0.1, gamma=0.01, kernel=poly; total time= 3.0min\n",
      "[CV] END .....................C=0.1, gamma=0.01, kernel=poly; total time= 3.4min\n",
      "[CV] END ..................C=0.1, gamma=0.01, kernel=sigmoid; total time= 3.8min\n",
      "[CV] END ..................C=0.1, gamma=0.01, kernel=sigmoid; total time= 3.8min\n",
      "[CV] END ..................C=0.1, gamma=0.01, kernel=sigmoid; total time= 3.7min\n",
      "[CV] END ..................C=0.1, gamma=0.01, kernel=sigmoid; total time= 3.7min\n",
      "[CV] END ..................C=0.1, gamma=0.01, kernel=sigmoid; total time= 5.0min\n",
      "[CV] END .....................C=0.1, gamma=0.001, kernel=rbf; total time= 3.9min\n",
      "[CV] END .....................C=0.1, gamma=0.001, kernel=rbf; total time= 3.7min\n",
      "[CV] END .....................C=0.1, gamma=0.001, kernel=rbf; total time= 3.9min\n",
      "[CV] END .....................C=0.1, gamma=0.001, kernel=rbf; total time= 3.8min\n",
      "[CV] END .....................C=0.1, gamma=0.001, kernel=rbf; total time= 3.8min\n",
      "[CV] END ....................C=0.1, gamma=0.001, kernel=poly; total time= 4.7min\n",
      "[CV] END ....................C=0.1, gamma=0.001, kernel=poly; total time= 3.6min\n",
      "[CV] END ....................C=0.1, gamma=0.001, kernel=poly; total time= 3.6min\n",
      "[CV] END ....................C=0.1, gamma=0.001, kernel=poly; total time= 3.7min\n",
      "[CV] END ....................C=0.1, gamma=0.001, kernel=poly; total time= 3.4min\n",
      "[CV] END .................C=0.1, gamma=0.001, kernel=sigmoid; total time= 3.5min\n",
      "[CV] END .................C=0.1, gamma=0.001, kernel=sigmoid; total time= 3.3min\n",
      "[CV] END .................C=0.1, gamma=0.001, kernel=sigmoid; total time= 3.3min\n",
      "[CV] END .................C=0.1, gamma=0.001, kernel=sigmoid; total time= 3.1min\n",
      "[CV] END .................C=0.1, gamma=0.001, kernel=sigmoid; total time= 3.2min\n",
      "[CV] END ...........................C=1, gamma=1, kernel=rbf; total time= 2.4min\n",
      "[CV] END ...........................C=1, gamma=1, kernel=rbf; total time= 2.4min\n",
      "[CV] END ...........................C=1, gamma=1, kernel=rbf; total time= 2.3min\n",
      "[CV] END ...........................C=1, gamma=1, kernel=rbf; total time= 2.8min\n",
      "[CV] END ...........................C=1, gamma=1, kernel=rbf; total time= 2.5min\n",
      "[CV] END ..........................C=1, gamma=1, kernel=poly; total time= 4.4min\n",
      "[CV] END ..........................C=1, gamma=1, kernel=poly; total time= 4.8min\n",
      "[CV] END ..........................C=1, gamma=1, kernel=poly; total time= 7.2min\n",
      "[CV] END ..........................C=1, gamma=1, kernel=poly; total time=12.0min\n",
      "[CV] END ..........................C=1, gamma=1, kernel=poly; total time=11.3min\n",
      "[CV] END .......................C=1, gamma=1, kernel=sigmoid; total time= 2.3min\n",
      "[CV] END .......................C=1, gamma=1, kernel=sigmoid; total time= 1.5min\n",
      "[CV] END .......................C=1, gamma=1, kernel=sigmoid; total time=  43.3s\n",
      "[CV] END .......................C=1, gamma=1, kernel=sigmoid; total time=  43.9s\n",
      "[CV] END .......................C=1, gamma=1, kernel=sigmoid; total time=  46.3s\n",
      "[CV] END .........................C=1, gamma=0.1, kernel=rbf; total time= 1.1min\n",
      "[CV] END .........................C=1, gamma=0.1, kernel=rbf; total time= 1.2min\n",
      "[CV] END .........................C=1, gamma=0.1, kernel=rbf; total time= 1.2min\n",
      "[CV] END .........................C=1, gamma=0.1, kernel=rbf; total time= 1.2min\n",
      "[CV] END .........................C=1, gamma=0.1, kernel=rbf; total time= 1.2min\n",
      "[CV] END ........................C=1, gamma=0.1, kernel=poly; total time= 2.8min\n",
      "[CV] END ........................C=1, gamma=0.1, kernel=poly; total time= 2.9min\n",
      "[CV] END ........................C=1, gamma=0.1, kernel=poly; total time= 2.8min\n",
      "[CV] END ........................C=1, gamma=0.1, kernel=poly; total time= 2.9min\n",
      "[CV] END ........................C=1, gamma=0.1, kernel=poly; total time= 2.9min\n",
      "[CV] END .....................C=1, gamma=0.1, kernel=sigmoid; total time= 1.7min\n",
      "[CV] END .....................C=1, gamma=0.1, kernel=sigmoid; total time= 1.6min\n",
      "[CV] END .....................C=1, gamma=0.1, kernel=sigmoid; total time= 1.6min\n",
      "[CV] END .....................C=1, gamma=0.1, kernel=sigmoid; total time= 3.3min\n",
      "[CV] END .....................C=1, gamma=0.1, kernel=sigmoid; total time= 4.6min\n",
      "[CV] END ........................C=1, gamma=0.01, kernel=rbf; total time= 6.5min\n",
      "[CV] END ........................C=1, gamma=0.01, kernel=rbf; total time= 6.7min\n",
      "[CV] END ........................C=1, gamma=0.01, kernel=rbf; total time= 6.6min\n",
      "[CV] END ........................C=1, gamma=0.01, kernel=rbf; total time= 6.6min\n",
      "[CV] END ........................C=1, gamma=0.01, kernel=rbf; total time= 6.6min\n",
      "[CV] END .......................C=1, gamma=0.01, kernel=poly; total time= 8.0min\n",
      "[CV] END .......................C=1, gamma=0.01, kernel=poly; total time= 8.0min\n",
      "[CV] END .......................C=1, gamma=0.01, kernel=poly; total time= 7.2min\n",
      "[CV] END .......................C=1, gamma=0.01, kernel=poly; total time= 7.9min\n",
      "[CV] END .......................C=1, gamma=0.01, kernel=poly; total time= 7.9min\n",
      "[CV] END ....................C=1, gamma=0.01, kernel=sigmoid; total time= 7.9min\n"
     ]
    },
    {
     "name": "stdout",
     "output_type": "stream",
     "text": [
      "[CV] END ....................C=1, gamma=0.01, kernel=sigmoid; total time= 7.8min\n",
      "[CV] END ....................C=1, gamma=0.01, kernel=sigmoid; total time= 7.8min\n",
      "[CV] END ....................C=1, gamma=0.01, kernel=sigmoid; total time= 8.2min\n",
      "[CV] END ....................C=1, gamma=0.01, kernel=sigmoid; total time= 8.2min\n",
      "[CV] END .......................C=1, gamma=0.001, kernel=rbf; total time= 7.9min\n",
      "[CV] END ......................C=1, gamma=0.001, kernel=rbf; total time=429.0min\n",
      "[CV] END .......................C=1, gamma=0.001, kernel=rbf; total time= 8.0min\n",
      "[CV] END .......................C=1, gamma=0.001, kernel=rbf; total time= 8.1min\n",
      "[CV] END .......................C=1, gamma=0.001, kernel=rbf; total time= 5.7min\n",
      "[CV] END ......................C=1, gamma=0.001, kernel=poly; total time= 2.5min\n",
      "[CV] END ......................C=1, gamma=0.001, kernel=poly; total time= 2.8min\n",
      "[CV] END ......................C=1, gamma=0.001, kernel=poly; total time= 2.6min\n",
      "[CV] END ......................C=1, gamma=0.001, kernel=poly; total time= 2.6min\n",
      "[CV] END ......................C=1, gamma=0.001, kernel=poly; total time= 2.7min\n",
      "[CV] END ...................C=1, gamma=0.001, kernel=sigmoid; total time= 2.9min\n",
      "[CV] END ...................C=1, gamma=0.001, kernel=sigmoid; total time= 3.0min\n",
      "[CV] END ...................C=1, gamma=0.001, kernel=sigmoid; total time= 2.9min\n",
      "[CV] END ...................C=1, gamma=0.001, kernel=sigmoid; total time= 3.0min\n",
      "[CV] END ...................C=1, gamma=0.001, kernel=sigmoid; total time= 3.0min\n",
      "[CV] END ..........................C=10, gamma=1, kernel=rbf; total time=14.5min\n",
      "[CV] END ..........................C=10, gamma=1, kernel=rbf; total time= 7.9min\n",
      "[CV] END .........................C=10, gamma=1, kernel=rbf; total time=187.3min\n",
      "[CV] END ..........................C=10, gamma=1, kernel=rbf; total time= 4.7min\n",
      "[CV] END ..........................C=10, gamma=1, kernel=rbf; total time= 7.4min\n",
      "[CV] END ........................C=10, gamma=1, kernel=poly; total time=255.4min\n",
      "[CV] END .........................C=10, gamma=1, kernel=poly; total time=14.7min\n",
      "[CV] END .........................C=10, gamma=1, kernel=poly; total time=27.0min\n",
      "[CV] END .........................C=10, gamma=1, kernel=poly; total time=13.0min\n",
      "[CV] END ........................C=10, gamma=1, kernel=poly; total time=111.4min\n",
      "[CV] END ......................C=10, gamma=1, kernel=sigmoid; total time= 1.4min\n",
      "[CV] END ......................C=10, gamma=1, kernel=sigmoid; total time= 1.2min\n",
      "[CV] END ......................C=10, gamma=1, kernel=sigmoid; total time= 1.4min\n",
      "[CV] END ......................C=10, gamma=1, kernel=sigmoid; total time= 1.4min\n",
      "[CV] END ......................C=10, gamma=1, kernel=sigmoid; total time= 1.5min\n",
      "[CV] END ........................C=10, gamma=0.1, kernel=rbf; total time= 2.5min\n",
      "[CV] END ........................C=10, gamma=0.1, kernel=rbf; total time= 2.8min\n",
      "[CV] END ........................C=10, gamma=0.1, kernel=rbf; total time= 2.9min\n",
      "[CV] END ........................C=10, gamma=0.1, kernel=rbf; total time= 2.8min\n",
      "[CV] END ........................C=10, gamma=0.1, kernel=rbf; total time= 2.4min\n",
      "[CV] END .......................C=10, gamma=0.1, kernel=poly; total time= 7.9min\n",
      "[CV] END .......................C=10, gamma=0.1, kernel=poly; total time= 7.8min\n",
      "[CV] END .......................C=10, gamma=0.1, kernel=poly; total time= 8.0min\n",
      "[CV] END .......................C=10, gamma=0.1, kernel=poly; total time= 7.9min\n",
      "[CV] END .......................C=10, gamma=0.1, kernel=poly; total time= 7.9min\n",
      "[CV] END ....................C=10, gamma=0.1, kernel=sigmoid; total time= 2.7min\n",
      "[CV] END ....................C=10, gamma=0.1, kernel=sigmoid; total time= 2.8min\n",
      "[CV] END ....................C=10, gamma=0.1, kernel=sigmoid; total time= 2.8min\n",
      "[CV] END ....................C=10, gamma=0.1, kernel=sigmoid; total time= 2.7min\n",
      "[CV] END ....................C=10, gamma=0.1, kernel=sigmoid; total time= 2.7min\n",
      "[CV] END .......................C=10, gamma=0.01, kernel=rbf; total time= 4.0min\n",
      "[CV] END .......................C=10, gamma=0.01, kernel=rbf; total time= 4.3min\n",
      "[CV] END .......................C=10, gamma=0.01, kernel=rbf; total time= 4.5min\n",
      "[CV] END .......................C=10, gamma=0.01, kernel=rbf; total time= 4.7min\n",
      "[CV] END .......................C=10, gamma=0.01, kernel=rbf; total time= 4.7min\n",
      "[CV] END ......................C=10, gamma=0.01, kernel=poly; total time= 5.9min\n",
      "[CV] END ......................C=10, gamma=0.01, kernel=poly; total time= 3.4min\n",
      "[CV] END ......................C=10, gamma=0.01, kernel=poly; total time= 3.3min\n",
      "[CV] END ......................C=10, gamma=0.01, kernel=poly; total time= 3.3min\n",
      "[CV] END ......................C=10, gamma=0.01, kernel=poly; total time= 3.4min\n",
      "[CV] END ...................C=10, gamma=0.01, kernel=sigmoid; total time= 1.9min\n",
      "[CV] END ...................C=10, gamma=0.01, kernel=sigmoid; total time= 2.0min\n",
      "[CV] END ...................C=10, gamma=0.01, kernel=sigmoid; total time= 1.9min\n",
      "[CV] END ...................C=10, gamma=0.01, kernel=sigmoid; total time= 1.9min\n",
      "[CV] END ...................C=10, gamma=0.01, kernel=sigmoid; total time= 1.9min\n",
      "[CV] END ......................C=10, gamma=0.001, kernel=rbf; total time= 2.8min\n",
      "[CV] END ......................C=10, gamma=0.001, kernel=rbf; total time= 2.9min\n",
      "[CV] END ......................C=10, gamma=0.001, kernel=rbf; total time= 2.8min\n",
      "[CV] END ......................C=10, gamma=0.001, kernel=rbf; total time= 2.9min\n",
      "[CV] END ......................C=10, gamma=0.001, kernel=rbf; total time= 2.7min\n",
      "[CV] END .....................C=10, gamma=0.001, kernel=poly; total time= 3.4min\n",
      "[CV] END .....................C=10, gamma=0.001, kernel=poly; total time= 3.4min\n",
      "[CV] END .....................C=10, gamma=0.001, kernel=poly; total time= 3.2min\n",
      "[CV] END .....................C=10, gamma=0.001, kernel=poly; total time= 3.4min\n",
      "[CV] END .....................C=10, gamma=0.001, kernel=poly; total time= 3.5min\n",
      "[CV] END ..................C=10, gamma=0.001, kernel=sigmoid; total time= 3.2min\n",
      "[CV] END ..................C=10, gamma=0.001, kernel=sigmoid; total time= 3.2min\n",
      "[CV] END ..................C=10, gamma=0.001, kernel=sigmoid; total time= 3.1min\n",
      "[CV] END ..................C=10, gamma=0.001, kernel=sigmoid; total time= 3.2min\n",
      "[CV] END ..................C=10, gamma=0.001, kernel=sigmoid; total time= 3.2min\n",
      "[CV] END .........................C=100, gamma=1, kernel=rbf; total time= 3.2min\n",
      "[CV] END .........................C=100, gamma=1, kernel=rbf; total time= 3.2min\n",
      "[CV] END .........................C=100, gamma=1, kernel=rbf; total time= 3.2min\n",
      "[CV] END .........................C=100, gamma=1, kernel=rbf; total time= 3.1min\n",
      "[CV] END .........................C=100, gamma=1, kernel=rbf; total time= 3.3min\n",
      "[CV] END .......................C=100, gamma=1, kernel=poly; total time=894.4min\n",
      "[CV] END .......................C=100, gamma=1, kernel=poly; total time=147.0min\n",
      "[CV] END ........................C=100, gamma=1, kernel=poly; total time=13.1min\n",
      "[CV] END ........................C=100, gamma=1, kernel=poly; total time=15.5min\n",
      "[CV] END ........................C=100, gamma=1, kernel=poly; total time=13.5min\n",
      "[CV] END .....................C=100, gamma=1, kernel=sigmoid; total time= 1.3min\n",
      "[CV] END .....................C=100, gamma=1, kernel=sigmoid; total time= 1.4min\n",
      "[CV] END .....................C=100, gamma=1, kernel=sigmoid; total time= 1.2min\n",
      "[CV] END .....................C=100, gamma=1, kernel=sigmoid; total time= 1.2min\n",
      "[CV] END .....................C=100, gamma=1, kernel=sigmoid; total time= 1.2min\n",
      "[CV] END .......................C=100, gamma=0.1, kernel=rbf; total time= 2.2min\n",
      "[CV] END .......................C=100, gamma=0.1, kernel=rbf; total time= 2.2min\n",
      "[CV] END .......................C=100, gamma=0.1, kernel=rbf; total time= 2.2min\n",
      "[CV] END .......................C=100, gamma=0.1, kernel=rbf; total time= 2.3min\n",
      "[CV] END .......................C=100, gamma=0.1, kernel=rbf; total time= 2.5min\n",
      "[CV] END ......................C=100, gamma=0.1, kernel=poly; total time= 6.6min\n",
      "[CV] END ......................C=100, gamma=0.1, kernel=poly; total time= 6.6min\n",
      "[CV] END .....................C=100, gamma=0.1, kernel=poly; total time=211.7min\n"
     ]
    },
    {
     "name": "stdout",
     "output_type": "stream",
     "text": [
      "[CV] END ......................C=100, gamma=0.1, kernel=poly; total time= 6.7min\n",
      "[CV] END ......................C=100, gamma=0.1, kernel=poly; total time= 6.7min\n",
      "[CV] END ...................C=100, gamma=0.1, kernel=sigmoid; total time= 2.0min\n",
      "[CV] END ...................C=100, gamma=0.1, kernel=sigmoid; total time= 2.3min\n",
      "[CV] END ...................C=100, gamma=0.1, kernel=sigmoid; total time= 1.9min\n",
      "[CV] END ...................C=100, gamma=0.1, kernel=sigmoid; total time= 2.1min\n",
      "[CV] END ...................C=100, gamma=0.1, kernel=sigmoid; total time= 1.9min\n",
      "[CV] END ......................C=100, gamma=0.01, kernel=rbf; total time= 2.3min\n",
      "[CV] END ......................C=100, gamma=0.01, kernel=rbf; total time=21.5min\n",
      "[CV] END ......................C=100, gamma=0.01, kernel=rbf; total time=  47.5s\n",
      "[CV] END ......................C=100, gamma=0.01, kernel=rbf; total time= 1.2min\n",
      "[CV] END ......................C=100, gamma=0.01, kernel=rbf; total time= 2.1min\n",
      "[CV] END .....................C=100, gamma=0.01, kernel=poly; total time= 8.6min\n",
      "[CV] END .....................C=100, gamma=0.01, kernel=poly; total time= 7.7min\n",
      "[CV] END .....................C=100, gamma=0.01, kernel=poly; total time= 7.9min\n",
      "[CV] END .....................C=100, gamma=0.01, kernel=poly; total time= 7.9min\n",
      "[CV] END .....................C=100, gamma=0.01, kernel=poly; total time= 8.0min\n",
      "[CV] END ..................C=100, gamma=0.01, kernel=sigmoid; total time= 2.7min\n",
      "[CV] END ..................C=100, gamma=0.01, kernel=sigmoid; total time= 2.7min\n",
      "[CV] END ..................C=100, gamma=0.01, kernel=sigmoid; total time= 2.7min\n",
      "[CV] END ..................C=100, gamma=0.01, kernel=sigmoid; total time= 2.7min\n",
      "[CV] END ..................C=100, gamma=0.01, kernel=sigmoid; total time= 2.7min\n",
      "[CV] END .....................C=100, gamma=0.001, kernel=rbf; total time= 3.5min\n",
      "[CV] END .....................C=100, gamma=0.001, kernel=rbf; total time= 2.7min\n",
      "[CV] END .....................C=100, gamma=0.001, kernel=rbf; total time= 1.1min\n",
      "[CV] END .....................C=100, gamma=0.001, kernel=rbf; total time= 1.1min\n",
      "[CV] END .....................C=100, gamma=0.001, kernel=rbf; total time= 1.1min\n",
      "[CV] END ....................C=100, gamma=0.001, kernel=poly; total time= 3.3min\n",
      "[CV] END ....................C=100, gamma=0.001, kernel=poly; total time= 2.7min\n",
      "[CV] END ....................C=100, gamma=0.001, kernel=poly; total time= 2.6min\n",
      "[CV] END ....................C=100, gamma=0.001, kernel=poly; total time= 2.6min\n",
      "[CV] END ....................C=100, gamma=0.001, kernel=poly; total time= 2.6min\n",
      "[CV] END .................C=100, gamma=0.001, kernel=sigmoid; total time= 1.5min\n",
      "[CV] END .................C=100, gamma=0.001, kernel=sigmoid; total time= 1.5min\n",
      "[CV] END .................C=100, gamma=0.001, kernel=sigmoid; total time= 1.5min\n",
      "[CV] END .................C=100, gamma=0.001, kernel=sigmoid; total time= 1.5min\n",
      "[CV] END .................C=100, gamma=0.001, kernel=sigmoid; total time= 1.5min\n"
     ]
    },
    {
     "data": {
      "text/plain": [
       "GridSearchCV(estimator=SVC(),\n",
       "             param_grid={'C': [0.1, 1, 10, 100], 'gamma': [1, 0.1, 0.01, 0.001],\n",
       "                         'kernel': ['rbf', 'poly', 'sigmoid']},\n",
       "             verbose=2)"
      ]
     },
     "execution_count": 49,
     "metadata": {},
     "output_type": "execute_result"
    }
   ],
   "source": [
    "##SVM with gridsearchcv\n",
    "from sklearn.svm import LinearSVC\n",
    "from sklearn.mode\n",
    "l_selection import GridSearchCV\n",
    "\n",
    "param_grid = {'C': [0.1,1, 10, 100], 'gamma': [1,0.1,0.01,0.001],'kernel': ['rbf', 'poly', 'sigmoid']}\n",
    "\n",
    "grid = GridSearchCV(SVC(),param_grid,refit=True,verbose=2)\n",
    "grid.fit(X_train,y_train)\n",
    "##svc = SVC(C=1.0, random_state=1, kernel='linear')"
   ]
  },
  {
   "cell_type": "code",
   "execution_count": 50,
   "id": "3a868879",
   "metadata": {},
   "outputs": [
    {
     "name": "stdout",
     "output_type": "stream",
     "text": [
      "SVC(C=100, gamma=1)\n"
     ]
    }
   ],
   "source": [
    "print(grid.best_estimator_)"
   ]
  },
  {
   "cell_type": "code",
   "execution_count": 51,
   "id": "e5b7aaac",
   "metadata": {},
   "outputs": [],
   "source": [
    "svc_pred = grid.predict(X_test)"
   ]
  },
  {
   "cell_type": "code",
   "execution_count": 52,
   "id": "e5c46862",
   "metadata": {},
   "outputs": [
    {
     "name": "stdout",
     "output_type": "stream",
     "text": [
      "0.9905723905723905\n",
      "***************************************\n",
      "Confusion matrix\n"
     ]
    },
    {
     "data": {
      "image/png": "[encoded data removed]",
      "text/plain": [
       "<Figure size 432x288 with 2 Axes>"
      ]
     },
     "metadata": {
      "needs_background": "light"
     },
     "output_type": "display_data"
    },
    {
     "name": "stdout",
     "output_type": "stream",
     "text": [
      "****************************************\n",
      "              precision    recall  f1-score   support\n",
      "\n",
      "           0       1.00      1.00      1.00      3431\n",
      "           1       0.99      0.99      0.99      3432\n",
      "           2       0.99      0.99      0.99      3532\n",
      "\n",
      "    accuracy                           0.99     10395\n",
      "   macro avg       0.99      0.99      0.99     10395\n",
      "weighted avg       0.99      0.99      0.99     10395\n",
      "\n"
     ]
    }
   ],
   "source": [
    "print(metrics.accuracy_score(y_test,svc_pred))\n",
    "print('***************************************')\n",
    "print('Confusion matrix')\n",
    "svm_cfm=metrics.confusion_matrix(y_test, svc_pred)\n",
    "\n",
    "\n",
    "lbl1=[\"Predicted 1\", \"Predicted 2\",\"Predicted 3\"]##,'Predicted 4']\n",
    "lbl2=[\"Actual 1\", \"Actual 2\",\"Actual 3\"]##,\"Actual 4\"]\n",
    "\n",
    "sns.heatmap(svm_cfm, annot=True, cmap=\"Blues\", fmt=\"d\", xticklabels=lbl1, yticklabels=lbl2)\n",
    "plt.show()\n",
    "\n",
    "print('****************************************')\n",
    "print(metrics.classification_report(y_test,svc_pred))"
   ]
  },
  {
   "cell_type": "code",
   "execution_count": null,
   "id": "43bfc3bc",
   "metadata": {},
   "outputs": [],
   "source": []
  }
 ],
 "metadata": {
  "kernelspec": {
   "display_name": "Python 3",
   "language": "python",
   "name": "python3"
  },
  "language_info": {
   "codemirror_mode": {
    "name": "ipython",
    "version": 3
   },
   "file_extension": ".py",
   "mimetype": "text/x-python",
   "name": "python",
   "nbconvert_exporter": "python",
   "pygments_lexer": "ipython3",
   "version": "3.8.8"
  }
 },
 "nbformat": 4,
 "nbformat_minor": 5
}
