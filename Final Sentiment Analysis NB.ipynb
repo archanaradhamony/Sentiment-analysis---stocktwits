{
 "cells": [
  {
   "cell_type": "code",
   "execution_count": 148,
   "id": "d1ecf6c2",
   "metadata": {},
   "outputs": [],
   "source": [
    "import numpy as np\n",
    "import pandas as pd\n",
    "import matplotlib.pyplot as plt\n",
    "import seaborn as sns\n",
    "\n",
    "from sklearn.naive_bayes import MultinomialNB"
   ]
  },
  {
   "cell_type": "code",
   "execution_count": 149,
   "id": "5886dae3",
   "metadata": {},
   "outputs": [],
   "source": [
    "from sklearn.model_selection import train_test_split,GridSearchCV,cross_val_score\n",
    "from sklearn.metrics import mean_squared_error\n",
    "from sklearn import metrics\n",
    "%matplotlib inline"
   ]
  },
  {
   "cell_type": "code",
   "execution_count": 150,
   "id": "20d1439e",
   "metadata": {},
   "outputs": [],
   "source": [
    "import string\n",
    "from nltk.stem import SnowballStemmer\n",
    "from nltk.corpus import stopwords\n",
    "from sklearn.feature_extraction.text import TfidfVectorizer\n",
    "from sklearn.model_selection import train_test_split\n",
    "import os\n",
    "from textblob import TextBlob\n",
    "from nltk.stem import PorterStemmer\n",
    "from textblob import Word\n",
    "from sklearn.feature_extraction.text import CountVectorizer, TfidfVectorizer\n",
    "import sklearn.feature_extraction.text as text"
   ]
  },
  {
   "cell_type": "code",
   "execution_count": 151,
   "id": "0b7ca270",
   "metadata": {},
   "outputs": [],
   "source": [
    "###Read stocktwits data for Amazon. The ML model predicts the sentiments of messages in this dataset, for the period of 2019-07-21 to 2020-07-22\n",
    "\n",
    "df1=pd.read_csv(\"AMZN_label.csv\")\n",
    "df1= df1.dropna(subset=['message']).reset_index()  \n",
    "\n",
    "###Read financial corpus data. The ML model will train and test based on the data in this dataset\n",
    "fin_corpus=pd.read_csv(\"tweet_sentiment.csv\")"
   ]
  },
  {
   "cell_type": "code",
   "execution_count": 152,
   "id": "a12c146d",
   "metadata": {},
   "outputs": [
    {
     "name": "stderr",
     "output_type": "stream",
     "text": [
      "<ipython-input-152-7f0c8a3c9143>:2: SettingWithCopyWarning: \n",
      "A value is trying to be set on a copy of a slice from a DataFrame.\n",
      "Try using .loc[row_indexer,col_indexer] = value instead\n",
      "\n",
      "See the caveats in the documentation: https://pandas.pydata.org/pandas-docs/stable/user_guide/indexing.html#returning-a-view-versus-a-copy\n",
      "  stocktwits_data['Date'] = pd.to_datetime(stocktwits_data['Date'])\n"
     ]
    }
   ],
   "source": [
    "\n",
    "stocktwits_data = df1[['symbol', 'message', 'Date']]\n",
    "stocktwits_data['Date'] = pd.to_datetime(stocktwits_data['Date'])\n",
    "\n",
    "stocktwits_data = stocktwits_data[stocktwits_data['Date'] > '2020-03-15']\n",
    "stocktwits_data = stocktwits_data[stocktwits_data['Date'] < '2020-04-16']"
   ]
  },
  {
   "cell_type": "code",
   "execution_count": 153,
   "id": "14448055",
   "metadata": {},
   "outputs": [
    {
     "data": {
      "text/html": [
       "<div>\n",
       "<style scoped>\n",
       "    .dataframe tbody tr th:only-of-type {\n",
       "        vertical-align: middle;\n",
       "    }\n",
       "\n",
       "    .dataframe tbody tr th {\n",
       "        vertical-align: top;\n",
       "    }\n",
       "\n",
       "    .dataframe thead th {\n",
       "        text-align: right;\n",
       "    }\n",
       "</style>\n",
       "<table border=\"1\" class=\"dataframe\">\n",
       "  <thead>\n",
       "    <tr style=\"text-align: right;\">\n",
       "      <th></th>\n",
       "      <th>symbol</th>\n",
       "      <th>message</th>\n",
       "      <th>Date</th>\n",
       "    </tr>\n",
       "  </thead>\n",
       "  <tbody>\n",
       "    <tr>\n",
       "      <th>45473</th>\n",
       "      <td>AMZN</td>\n",
       "      <td>amzn spy 737 corona cases still 5 hours go clo...</td>\n",
       "      <td>2020-03-16</td>\n",
       "    </tr>\n",
       "    <tr>\n",
       "      <th>45474</th>\n",
       "      <td>AMZN</td>\n",
       "      <td>tsla msft shop amzn nov markets nov 2016 expec...</td>\n",
       "      <td>2020-03-16</td>\n",
       "    </tr>\n",
       "    <tr>\n",
       "      <th>45475</th>\n",
       "      <td>AMZN</td>\n",
       "      <td>spy baba amzn aapl buy everything next 2 months</td>\n",
       "      <td>2020-03-16</td>\n",
       "    </tr>\n",
       "    <tr>\n",
       "      <th>45476</th>\n",
       "      <td>AMZN</td>\n",
       "      <td>amzn friends going</td>\n",
       "      <td>2020-03-16</td>\n",
       "    </tr>\n",
       "    <tr>\n",
       "      <th>45477</th>\n",
       "      <td>AMZN</td>\n",
       "      <td>spy aapl amzn msft tsla futures watch sunday n...</td>\n",
       "      <td>2020-03-16</td>\n",
       "    </tr>\n",
       "  </tbody>\n",
       "</table>\n",
       "</div>"
      ],
      "text/plain": [
       "      symbol                                            message       Date\n",
       "45473   AMZN  amzn spy 737 corona cases still 5 hours go clo... 2020-03-16\n",
       "45474   AMZN  tsla msft shop amzn nov markets nov 2016 expec... 2020-03-16\n",
       "45475   AMZN    spy baba amzn aapl buy everything next 2 months 2020-03-16\n",
       "45476   AMZN                                 amzn friends going 2020-03-16\n",
       "45477   AMZN  spy aapl amzn msft tsla futures watch sunday n... 2020-03-16"
      ]
     },
     "execution_count": 153,
     "metadata": {},
     "output_type": "execute_result"
    }
   ],
   "source": [
    "stocktwits_data.tail(5)"
   ]
  },
  {
   "cell_type": "code",
   "execution_count": 154,
   "id": "9eb02875",
   "metadata": {},
   "outputs": [
    {
     "data": {
      "text/html": [
       "<div>\n",
       "<style scoped>\n",
       "    .dataframe tbody tr th:only-of-type {\n",
       "        vertical-align: middle;\n",
       "    }\n",
       "\n",
       "    .dataframe tbody tr th {\n",
       "        vertical-align: top;\n",
       "    }\n",
       "\n",
       "    .dataframe thead th {\n",
       "        text-align: right;\n",
       "    }\n",
       "</style>\n",
       "<table border=\"1\" class=\"dataframe\">\n",
       "  <thead>\n",
       "    <tr style=\"text-align: right;\">\n",
       "      <th></th>\n",
       "      <th>text</th>\n",
       "      <th>sentiment</th>\n",
       "    </tr>\n",
       "  </thead>\n",
       "  <tbody>\n",
       "    <tr>\n",
       "      <th>0</th>\n",
       "      <td>video offic mind busi david solomon tell gs in...</td>\n",
       "      <td>0</td>\n",
       "    </tr>\n",
       "    <tr>\n",
       "      <th>1</th>\n",
       "      <td>price lumber lb f sinc hit ytd high maci turna...</td>\n",
       "      <td>0</td>\n",
       "    </tr>\n",
       "    <tr>\n",
       "      <th>2</th>\n",
       "      <td>say american dream dead</td>\n",
       "      <td>-1</td>\n",
       "    </tr>\n",
       "    <tr>\n",
       "      <th>3</th>\n",
       "      <td>barri silbert extrem optimist bitcoin predict ...</td>\n",
       "      <td>1</td>\n",
       "    </tr>\n",
       "    <tr>\n",
       "      <th>4</th>\n",
       "      <td>satellit avoid attack space junk circl earth paid</td>\n",
       "      <td>-1</td>\n",
       "    </tr>\n",
       "  </tbody>\n",
       "</table>\n",
       "</div>"
      ],
      "text/plain": [
       "                                                text  sentiment\n",
       "0  video offic mind busi david solomon tell gs in...          0\n",
       "1  price lumber lb f sinc hit ytd high maci turna...          0\n",
       "2                            say american dream dead         -1\n",
       "3  barri silbert extrem optimist bitcoin predict ...          1\n",
       "4  satellit avoid attack space junk circl earth paid         -1"
      ]
     },
     "execution_count": 154,
     "metadata": {},
     "output_type": "execute_result"
    }
   ],
   "source": [
    "fin_corpus.rename(columns={'cleaned_tweets': 'text', 'sentiment': 'sentiment'}, inplace=True)\n",
    "fin_corpus.head(5)"
   ]
  },
  {
   "cell_type": "code",
   "execution_count": 156,
   "id": "fc9427b5",
   "metadata": {},
   "outputs": [
    {
     "data": {
      "image/png": "[encoded data removed]",
      "text/plain": [
       "<Figure size 432x288 with 1 Axes>"
      ]
     },
     "metadata": {
      "needs_background": "light"
     },
     "output_type": "display_data"
    }
   ],
   "source": [
    "fin_corpus['sentiment'].value_counts().plot.bar(color = [\"grey\",\"green\", \"red\"])\n",
    "plt.title('Sentiments in financial corpus')\n",
    "plt.show()"
   ]
  },
  {
   "cell_type": "code",
   "execution_count": 157,
   "id": "c18106c9",
   "metadata": {},
   "outputs": [
    {
     "data": {
      "text/plain": [
       " 0    17330\n",
       " 1     8512\n",
       "-1     2598\n",
       "Name: sentiment, dtype: int64"
      ]
     },
     "execution_count": 157,
     "metadata": {},
     "output_type": "execute_result"
    }
   ],
   "source": [
    "fin_corpus['sentiment'].value_counts()"
   ]
  },
  {
   "cell_type": "code",
   "execution_count": 158,
   "id": "a0aa5be0",
   "metadata": {},
   "outputs": [],
   "source": [
    "##fin_corpus.drop(fin_corpus.loc[fin_corpus['sentiment']==0].index, inplace=True)\n",
    "\n",
    "fin_corpus[\"sentiment\"].replace({1: \"Positive\"}, inplace=True)\n",
    "fin_corpus[\"sentiment\"].replace({0: \"Neutral\"}, inplace=True)\n",
    "fin_corpus[\"sentiment\"].replace({-1: \"Negative\"}, inplace=True)"
   ]
  },
  {
   "cell_type": "code",
   "execution_count": 160,
   "id": "f26c5ef6",
   "metadata": {},
   "outputs": [
    {
     "data": {
      "image/png": "[encoded data removed]",
      "text/plain": [
       "<Figure size 432x288 with 1 Axes>"
      ]
     },
     "metadata": {
      "needs_background": "light"
     },
     "output_type": "display_data"
    }
   ],
   "source": [
    "fin_corpus['sentiment'].value_counts().plot.bar(color = [\"grey\",\"green\", \"red\"])\n",
    "plt.title('Sentiments in financial corpus')\n",
    "plt.show()"
   ]
  },
  {
   "cell_type": "code",
   "execution_count": 97,
   "id": "439a460a",
   "metadata": {},
   "outputs": [
    {
     "data": {
      "text/plain": [
       "Neutral     17330\n",
       "Positive     8512\n",
       "Negative     2598\n",
       "Name: sentiment, dtype: int64"
      ]
     },
     "execution_count": 97,
     "metadata": {},
     "output_type": "execute_result"
    }
   ],
   "source": [
    "fin_corpus['sentiment'].value_counts()"
   ]
  },
  {
   "cell_type": "code",
   "execution_count": 98,
   "id": "7ef566bb",
   "metadata": {},
   "outputs": [
    {
     "data": {
      "text/plain": [
       "Neutral     17324\n",
       "Positive     8512\n",
       "Negative     2598\n",
       "Name: sentiment, dtype: int64"
      ]
     },
     "execution_count": 98,
     "metadata": {},
     "output_type": "execute_result"
    }
   ],
   "source": [
    "train_data = fin_corpus\n",
    "train_data = train_data.dropna()\n",
    "train_data['sentiment'].value_counts()\n"
   ]
  },
  {
   "cell_type": "code",
   "execution_count": 99,
   "id": "0e72396b",
   "metadata": {},
   "outputs": [],
   "source": [
    "from nltk.tokenize import RegexpTokenizer\n",
    "\n",
    "def clean_str(string, reg = RegexpTokenizer(r'[a-z]+')):\n",
    "    # Clean a string with RegexpTokenizer\n",
    "    string = string.lower()\n",
    "    tokens = reg.tokenize(string)\n",
    "    return \" \".join(tokens)"
   ]
  },
  {
   "cell_type": "code",
   "execution_count": 100,
   "id": "744d1c84",
   "metadata": {},
   "outputs": [
    {
     "name": "stderr",
     "output_type": "stream",
     "text": [
      "<ipython-input-100-afd0f154b6fb>:2: SettingWithCopyWarning: \n",
      "A value is trying to be set on a copy of a slice from a DataFrame.\n",
      "Try using .loc[row_indexer,col_indexer] = value instead\n",
      "\n",
      "See the caveats in the documentation: https://pandas.pydata.org/pandas-docs/stable/user_guide/indexing.html#returning-a-view-versus-a-copy\n",
      "  train_data['text_clean'] = train_data['text'].apply(lambda string: clean_str(string))\n"
     ]
    },
    {
     "data": {
      "text/html": [
       "<div>\n",
       "<style scoped>\n",
       "    .dataframe tbody tr th:only-of-type {\n",
       "        vertical-align: middle;\n",
       "    }\n",
       "\n",
       "    .dataframe tbody tr th {\n",
       "        vertical-align: top;\n",
       "    }\n",
       "\n",
       "    .dataframe thead th {\n",
       "        text-align: right;\n",
       "    }\n",
       "</style>\n",
       "<table border=\"1\" class=\"dataframe\">\n",
       "  <thead>\n",
       "    <tr style=\"text-align: right;\">\n",
       "      <th></th>\n",
       "      <th>text</th>\n",
       "      <th>sentiment</th>\n",
       "      <th>text_clean</th>\n",
       "    </tr>\n",
       "  </thead>\n",
       "  <tbody>\n",
       "    <tr>\n",
       "      <th>0</th>\n",
       "      <td>video offic mind busi david solomon tell gs in...</td>\n",
       "      <td>Neutral</td>\n",
       "      <td>video offic mind busi david solomon tell gs in...</td>\n",
       "    </tr>\n",
       "    <tr>\n",
       "      <th>1</th>\n",
       "      <td>price lumber lb f sinc hit ytd high maci turna...</td>\n",
       "      <td>Neutral</td>\n",
       "      <td>price lumber lb f sinc hit ytd high maci turna...</td>\n",
       "    </tr>\n",
       "    <tr>\n",
       "      <th>2</th>\n",
       "      <td>say american dream dead</td>\n",
       "      <td>Negative</td>\n",
       "      <td>say american dream dead</td>\n",
       "    </tr>\n",
       "    <tr>\n",
       "      <th>3</th>\n",
       "      <td>barri silbert extrem optimist bitcoin predict ...</td>\n",
       "      <td>Positive</td>\n",
       "      <td>barri silbert extrem optimist bitcoin predict ...</td>\n",
       "    </tr>\n",
       "    <tr>\n",
       "      <th>4</th>\n",
       "      <td>satellit avoid attack space junk circl earth paid</td>\n",
       "      <td>Negative</td>\n",
       "      <td>satellit avoid attack space junk circl earth paid</td>\n",
       "    </tr>\n",
       "  </tbody>\n",
       "</table>\n",
       "</div>"
      ],
      "text/plain": [
       "                                                text sentiment  \\\n",
       "0  video offic mind busi david solomon tell gs in...   Neutral   \n",
       "1  price lumber lb f sinc hit ytd high maci turna...   Neutral   \n",
       "2                            say american dream dead  Negative   \n",
       "3  barri silbert extrem optimist bitcoin predict ...  Positive   \n",
       "4  satellit avoid attack space junk circl earth paid  Negative   \n",
       "\n",
       "                                          text_clean  \n",
       "0  video offic mind busi david solomon tell gs in...  \n",
       "1  price lumber lb f sinc hit ytd high maci turna...  \n",
       "2                            say american dream dead  \n",
       "3  barri silbert extrem optimist bitcoin predict ...  \n",
       "4  satellit avoid attack space junk circl earth paid  "
      ]
     },
     "execution_count": 100,
     "metadata": {},
     "output_type": "execute_result"
    }
   ],
   "source": [
    "# Create a new column with the cleaned messages\n",
    "train_data['text_clean'] = train_data['text'].apply(lambda string: clean_str(string))\n",
    "\n",
    "# Display the result\n",
    "train_data.head()"
   ]
  },
  {
   "cell_type": "code",
   "execution_count": 101,
   "id": "c391a40d",
   "metadata": {},
   "outputs": [],
   "source": [
    "import nltk\n",
    "from nltk.stem import PorterStemmer\n",
    "from sklearn import preprocessing\n",
    "from imblearn.over_sampling import SMOTE\n",
    "encoder = preprocessing.LabelEncoder()\n",
    "from imblearn.under_sampling import RandomUnderSampler\n",
    "##encoder = preprocessing.LabelEncoder()\n",
    "\n",
    "y = train_data.sentiment\n",
    "x = train_data.text_clean\n"
   ]
  },
  {
   "cell_type": "code",
   "execution_count": 102,
   "id": "e2b21574",
   "metadata": {},
   "outputs": [],
   "source": [
    "# TFIDF feature generation for a maximum of 5000 features\n",
    "tfidf_vect = TfidfVectorizer(analyzer='word', token_pattern=r'\\w{1,}', max_features=5000)\n",
    "tfidf_vect.fit(train_data['text_clean'])\n",
    "x = tfidf_vect.transform(x)\n",
    "##X_test = tfidf_vect.transform(X_test)\n",
    "##xtrain_tfidf.data"
   ]
  },
  {
   "cell_type": "code",
   "execution_count": 103,
   "id": "7ca0c528",
   "metadata": {},
   "outputs": [],
   "source": [
    "##y = train_data.sentiment\n",
    "##x = train_data.text_clean\n",
    "\n",
    "encoder.fit(y)\n",
    "y = encoder.fit_transform(y)\n",
    "# transform the dataset\n",
    "oversample = SMOTE()\n",
    "x, y = oversample.fit_resample(x, y)\n",
    "\n",
    "##X_train, X_test, y_train, y_test = train_test_split(x, y, test_size=0.2, random_state=0)"
   ]
  },
  {
   "cell_type": "code",
   "execution_count": 104,
   "id": "3faabed3",
   "metadata": {},
   "outputs": [
    {
     "name": "stdout",
     "output_type": "stream",
     "text": [
      "Class=1, n=17324 (33.333%)\n",
      "Class=0, n=17324 (33.333%)\n",
      "Class=2, n=17324 (33.333%)\n"
     ]
    }
   ],
   "source": [
    "from collections import Counter\n",
    "counter = Counter(y)\n",
    "for k,v in counter.items():\n",
    "    per = v / len(y) * 100\n",
    "    print('Class=%d, n=%d (%.3f%%)' % (k, v, per))"
   ]
  },
  {
   "cell_type": "code",
   "execution_count": 105,
   "id": "a37c142c",
   "metadata": {},
   "outputs": [
    {
     "data": {
      "text/plain": [
       "<51972x5000 sparse matrix of type '<class 'numpy.float64'>'\n",
       "\twith 575603 stored elements in Compressed Sparse Row format>"
      ]
     },
     "execution_count": 105,
     "metadata": {},
     "output_type": "execute_result"
    }
   ],
   "source": [
    "x"
   ]
  },
  {
   "cell_type": "code",
   "execution_count": 106,
   "id": "32e53d6c",
   "metadata": {},
   "outputs": [],
   "source": [
    "X_train, X_test, y_train, y_test = train_test_split(x, y, test_size=0.2, random_state=0)"
   ]
  },
  {
   "cell_type": "code",
   "execution_count": 107,
   "id": "32954d85",
   "metadata": {},
   "outputs": [
    {
     "data": {
      "text/plain": [
       "MultinomialNB(alpha=0.2)"
      ]
     },
     "execution_count": 107,
     "metadata": {},
     "output_type": "execute_result"
    }
   ],
   "source": [
    "# Naive Bayes classifier\n",
    "\n",
    "from sklearn import naive_bayes\n",
    "from sklearn.preprocessing import StandardScaler\n",
    "\n",
    "\n",
    "# instantiate the model\n",
    "nb = naive_bayes.MultinomialNB(alpha=0.2)\n",
    "\n",
    "nb.fit(X_train, y_train)\n"
   ]
  },
  {
   "cell_type": "code",
   "execution_count": 108,
   "id": "3095ecad",
   "metadata": {},
   "outputs": [],
   "source": [
    "nb_pred = nb.predict(X_test)"
   ]
  },
  {
   "cell_type": "code",
   "execution_count": 109,
   "id": "2164d0cc",
   "metadata": {},
   "outputs": [
    {
     "name": "stdout",
     "output_type": "stream",
     "text": [
      "0.8838864838864838\n",
      "***************************************\n",
      "Confusion matrix\n"
     ]
    },
    {
     "data": {
      "image/png": "[encoded data removed]",
      "text/plain": [
       "<Figure size 432x288 with 2 Axes>"
      ]
     },
     "metadata": {
      "needs_background": "light"
     },
     "output_type": "display_data"
    },
    {
     "name": "stdout",
     "output_type": "stream",
     "text": [
      "****************************************\n",
      "              precision    recall  f1-score   support\n",
      "\n",
      "           0       0.89      0.95      0.92      3431\n",
      "           1       0.89      0.78      0.83      3432\n",
      "           2       0.87      0.92      0.90      3532\n",
      "\n",
      "    accuracy                           0.88     10395\n",
      "   macro avg       0.88      0.88      0.88     10395\n",
      "weighted avg       0.88      0.88      0.88     10395\n",
      "\n"
     ]
    }
   ],
   "source": [
    "print(metrics.accuracy_score(y_test,nb_pred))\n",
    "print('***************************************')\n",
    "print('Confusion matrix')\n",
    "NB_cfm=metrics.confusion_matrix(y_test, nb_pred)\n",
    "\n",
    "\n",
    "lbl1=[\"Predicted 1\", \"Predicted 2\",\"Predicted 3\"]##,'Predicted 4']\n",
    "lbl2=[\"Actual 1\", \"Actual 2\",\"Actual 3\"]##,\"Actual 4\"]\n",
    "\n",
    "sns.heatmap(NB_cfm, annot=True, cmap=\"Blues\", fmt=\"d\", xticklabels=lbl1, yticklabels=lbl2)\n",
    "plt.show()\n",
    "\n",
    "print('****************************************')\n",
    "print(metrics.classification_report(y_test,nb_pred))"
   ]
  },
  {
   "cell_type": "code",
   "execution_count": null,
   "id": "ef26d58e",
   "metadata": {},
   "outputs": [],
   "source": []
  },
  {
   "cell_type": "code",
   "execution_count": null,
   "id": "097782fa",
   "metadata": {},
   "outputs": [],
   "source": []
  },
  {
   "cell_type": "code",
   "execution_count": null,
   "id": "b530fdf9",
   "metadata": {},
   "outputs": [],
   "source": []
  }
 ],
 "metadata": {
  "kernelspec": {
   "display_name": "Python 3",
   "language": "python",
   "name": "python3"
  },
  "language_info": {
   "codemirror_mode": {
    "name": "ipython",
    "version": 3
   },
   "file_extension": ".py",
   "mimetype": "text/x-python",
   "name": "python",
   "nbconvert_exporter": "python",
   "pygments_lexer": "ipython3",
   "version": "3.8.8"
  }
 },
 "nbformat": 4,
 "nbformat_minor": 5
}
